{
 "cells": [
  {
   "cell_type": "markdown",
   "id": "875083fc-2472-4b57-91ef-2d52279d0669",
   "metadata": {},
   "source": [
    "# Capstone Project - The Battle of Neighborhoods (Week 1)"
   ]
  },
  {
   "cell_type": "markdown",
   "id": "ede7d2c4-7c2d-4636-9d71-9606a4b89dfc",
   "metadata": {},
   "source": [
    "## Intorduction & Business Problem"
   ]
  },
  {
   "cell_type": "markdown",
   "id": "7c352d1d-d5bd-4803-89e1-2b7b58541392",
   "metadata": {},
   "source": [
    "### A description of the problem and a discussion of the background. (15 marks)"
   ]
  },
  {
   "cell_type": "markdown",
   "id": "62d388d5-b1e0-4f24-bb24-109cc0da965e",
   "metadata": {},
   "source": [
    "Toronto is a large multi-cultural city that is home to many different ethnic groups. One of the largest ethnic groups in the city is the Chinese. Toronto is an ideal place to set up a Chinese restaurant because of the following reasons:\n",
    "- sufficient population to sustain businesses\n",
    "- people are exposed to many cultures and enjoy experiencing various cuisines\n",
    "- there is a substantial Chinese population that will want to have \"home cooking\" without needing to prepare it themselves\n",
    "\n",
    "Unfortunately, with many opportunities there also comes many competitors. People who have been to Toronto will know that there is a an abundance of Chinese restaurants. A good location is needed to maximize the chance of sustaining and growing the business.  "
   ]
  },
  {
   "cell_type": "markdown",
   "id": "532dadd5-b0bc-4053-9e6a-30be1571cc9d",
   "metadata": {},
   "source": [
    "The business will have an advantage if the chosen location has:\n",
    "- sufficient income to spend at restaurants\n",
    "- sufficient population growth to sustain and grow clientele\n",
    "- few to no Chinese restaurants with good ratings (less good competitors)\n"
   ]
  },
  {
   "cell_type": "code",
   "execution_count": null,
   "id": "be6d991b-34fe-4fe6-985d-9d38d8e9ccf8",
   "metadata": {},
   "outputs": [],
   "source": []
  }
 ],
 "metadata": {
  "kernelspec": {
   "display_name": "Python",
   "language": "python",
   "name": "conda-env-python-py"
  },
  "language_info": {
   "codemirror_mode": {
    "name": "ipython",
    "version": 3
   },
   "file_extension": ".py",
   "mimetype": "text/x-python",
   "name": "python",
   "nbconvert_exporter": "python",
   "pygments_lexer": "ipython3",
   "version": "3.6.13"
  }
 },
 "nbformat": 4,
 "nbformat_minor": 5
}
