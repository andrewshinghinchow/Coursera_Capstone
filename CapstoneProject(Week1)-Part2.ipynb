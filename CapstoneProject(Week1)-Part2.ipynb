{
 "cells": [
  {
   "cell_type": "markdown",
   "id": "875083fc-2472-4b57-91ef-2d52279d0669",
   "metadata": {},
   "source": [
    "# Capstone Project - The Battle of Neighborhoods (Week 1)"
   ]
  },
  {
   "cell_type": "markdown",
   "id": "ede7d2c4-7c2d-4636-9d71-9606a4b89dfc",
   "metadata": {},
   "source": [
    "## Data & Analysis"
   ]
  },
  {
   "cell_type": "markdown",
   "id": "7c352d1d-d5bd-4803-89e1-2b7b58541392",
   "metadata": {},
   "source": [
    "### A description of the data and how it will be used to solve the problem. (15 marks)"
   ]
  },
  {
   "cell_type": "markdown",
   "id": "62d388d5-b1e0-4f24-bb24-109cc0da965e",
   "metadata": {},
   "source": [
    "It was discussed that in order to set up a successful Chinese restaurant, the following will be needed:\n",
    "- sufficient income to spend at restaurants\n",
    "- sufficient population growth to sustain and grow clientele\n",
    "- few to no Chinese restaurants with good ratings (less good competitors)\n",
    "\n",
    "In order to complete such an analysis, the following data will be needed:\n",
    "1. Collect the various Toronto neighbourhoods (e.g. from Wikipedia: https://en.wikipedia.org/wiki/List_of_postal_codes_of_Canada:_M)\n",
    "2. Gather the geospatial data from a previous lab (e.g. https://cf-courses-data.s3.us.cloud-object-storage.appdomain.cloud/IBMDeveloperSkillsNetwork-DS0701EN-SkillsNetwork/labs_v1/Geospatial_Coordinates.csv)\n",
    "3. Get the income and population growth data for various Toronto neighbourhoods (e.g. from Wikipedia - https://en.wikipedia.org/wiki/Demographics_of_Toronto_neighbourhoods)\n",
    "4. Use Foursquare Data to gather info about popular venues (Chinese restaurants)\n",
    "\n",
    "Clustering, dataframes, and visualization using a Chloropleth Map will assist in the analysis.\n",
    "\n",
    "Ideally, a neighbourhood that has a growing (i.e. not negative) population growth, sufficient income (perhaps above $40,000 per annnum - actual amount will be determined later), and few Chinese restaurants with good ratings on Foursquare will be a good place to set up the business."
   ]
  },
  {
   "cell_type": "code",
   "execution_count": null,
   "id": "be6d991b-34fe-4fe6-985d-9d38d8e9ccf8",
   "metadata": {},
   "outputs": [],
   "source": []
  }
 ],
 "metadata": {
  "kernelspec": {
   "display_name": "Python",
   "language": "python",
   "name": "conda-env-python-py"
  },
  "language_info": {
   "codemirror_mode": {
    "name": "ipython",
    "version": 3
   },
   "file_extension": ".py",
   "mimetype": "text/x-python",
   "name": "python",
   "nbconvert_exporter": "python",
   "pygments_lexer": "ipython3",
   "version": "3.6.13"
  }
 },
 "nbformat": 4,
 "nbformat_minor": 5
}
